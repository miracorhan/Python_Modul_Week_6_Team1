{
 "cells": [
  {
   "cell_type": "code",
   "execution_count": 67,
   "metadata": {},
   "outputs": [],
   "source": [
    "class TaskManagement:\n",
    "    def __init__(self):\n",
    "        # Örnek task_list\n",
    "        self.task_list = [\n",
    "            {\n",
    "                \"task_id\": 1,\n",
    "                \"task_name\": \"Complete Python Project\",\n",
    "                \"task_status\": \"Pending\",\n",
    "                \"deadline\": \"2025-01-25\",\n",
    "                \"priority\": \"High\",\n",
    "                \"task_color\": \"Blue\",\n",
    "            },\n",
    "            {\n",
    "                \"task_id\": 2,\n",
    "                \"task_name\": \"Prepare Presentation\",\n",
    "                \"task_status\": \"Pending\",\n",
    "                \"deadline\": \"2025-01-22\",\n",
    "                \"priority\": \"Medium\",\n",
    "                \"task_color\": \"Green\",\n",
    "            },\n",
    "            {\n",
    "                \"task_id\": 3,\n",
    "                \"task_name\": \"Submit Expense Report\",\n",
    "                \"task_status\": \"Pending\",\n",
    "                \"deadline\": \"2025-01-20\",\n",
    "                \"priority\": \"Low\",\n",
    "                \"task_color\": \"Yellow\",\n",
    "            },\n",
    "            {\n",
    "                \"task_id\": 4,\n",
    "                \"task_name\": \"Team Meeting\",\n",
    "                \"task_status\": \"Pending\",\n",
    "                \"deadline\": \"2025-01-21\",\n",
    "                \"priority\": \"Medium\",\n",
    "                \"task_color\": \"Red\",\n",
    "            },\n",
    "            {\n",
    "                \"task_id\": 5,\n",
    "                \"task_name\": \"Write Blog Post\",\n",
    "                \"task_status\": \"Pending\",\n",
    "                \"deadline\": \"2025-01-30\",\n",
    "                \"priority\": \"High\",\n",
    "                \"task_color\": \"Purple\",\n",
    "            },\n",
    "        ]"
   ]
  },
  {
   "cell_type": "code",
   "execution_count": 69,
   "metadata": {},
   "outputs": [],
   "source": [
    "class TaskEditing:\n",
    "    def __init__(self, task_management):\n",
    "        self.task_management = task_management\n",
    "\n",
    "    def find_task(self, task_id):\n",
    "        for task in self.task_management.task_list:\n",
    "            if task[\"task_id\"] == task_id:\n",
    "                return task\n",
    "        return f\"Task with ID {task_id} not found!\"\n",
    "\n",
    "    def set_task_status(self, task_id, status):\n",
    "        task = self.find_task(task_id)\n",
    "        if task:\n",
    "            task[\"task_status\"] = status\n",
    "            print(f\"Task {task_id} status updated to: {status}\")\n",
    "        else:\n",
    "            print(f\"Task {task_id} not found!\")\n",
    "\n",
    "    def set_prioritization(self, task_id, priority):\n",
    "        task = self.find_task(task_id)\n",
    "        if task:\n",
    "            task[\"priority\"] = priority\n",
    "            print(f\"Task {task_id} priority updated to: {priority}\")\n",
    "        else:\n",
    "            print(f\"Task {task_id} not found!\")\n",
    "\n",
    "    def set_new_deadline(self, task_id, deadline):\n",
    "        task = self.find_task(task_id)\n",
    "        if task:\n",
    "            task[\"deadline\"] = deadline\n",
    "            print(f\"Task {task_id} deadline updated to: {deadline}\")\n",
    "        else:\n",
    "            print(f\"Task {task_id} not found!\")\n",
    "\n",
    "\n",
    "    def mark_status_completed(self, task_id):\n",
    "        task = self.find_task(task_id)\n",
    "        if task:\n",
    "            task[\"task_status\"] = \"Completed\"\n",
    "            return True\n",
    "        else:\n",
    "                return False\n",
    "\n",
    "\n",
    "    def get_task_by_id(self, task_id):\n",
    "        task = self.find_task(task_id)\n",
    "        if task:\n",
    "            return f\"Task ID: {task_id}, Name: {task['task_name']}, Deadline: {task['deadline']}, Priority: {task['priority']}, Color: {task['task_color']}\"\n",
    "        return f\"Task {task_id} not found!\" "
   ]
  },
  {
   "cell_type": "code",
   "execution_count": 70,
   "metadata": {},
   "outputs": [],
   "source": [
    "task_management = TaskManagement()"
   ]
  },
  {
   "cell_type": "code",
   "execution_count": 71,
   "metadata": {},
   "outputs": [],
   "source": [
    "te = TaskEditing(task_management)"
   ]
  },
  {
   "cell_type": "code",
   "execution_count": 72,
   "metadata": {},
   "outputs": [
    {
     "name": "stdout",
     "output_type": "stream",
     "text": [
      "Task 1 status updated to: In Progress\n"
     ]
    }
   ],
   "source": [
    "te.set_task_status(1, \"In Progress\")  "
   ]
  },
  {
   "cell_type": "code",
   "execution_count": 73,
   "metadata": {},
   "outputs": [
    {
     "data": {
      "text/plain": [
       "True"
      ]
     },
     "execution_count": 73,
     "metadata": {},
     "output_type": "execute_result"
    }
   ],
   "source": [
    "te.mark_status_completed(2)"
   ]
  },
  {
   "cell_type": "code",
   "execution_count": 74,
   "metadata": {},
   "outputs": [
    {
     "name": "stdout",
     "output_type": "stream",
     "text": [
      "Task 2 priority updated to: High\n"
     ]
    }
   ],
   "source": [
    "te.set_prioritization(2, \"High\")"
   ]
  },
  {
   "cell_type": "code",
   "execution_count": 75,
   "metadata": {},
   "outputs": [
    {
     "name": "stdout",
     "output_type": "stream",
     "text": [
      "Task 1 deadline updated to: 2025-02-01\n"
     ]
    }
   ],
   "source": [
    "te.set_new_deadline(1, \"2025-02-01\")"
   ]
  },
  {
   "cell_type": "code",
   "execution_count": 76,
   "metadata": {},
   "outputs": [
    {
     "name": "stdout",
     "output_type": "stream",
     "text": [
      "Task ID: 1, Name: Complete Python Project, Deadline: 2025-02-01, Priority: High, Color: Blue\n"
     ]
    }
   ],
   "source": [
    "task_info = te.get_task_by_id(1)\n",
    "print(task_info)"
   ]
  }
 ],
 "metadata": {
  "kernelspec": {
   "display_name": "Python 3",
   "language": "python",
   "name": "python3"
  },
  "language_info": {
   "codemirror_mode": {
    "name": "ipython",
    "version": 3
   },
   "file_extension": ".py",
   "mimetype": "text/x-python",
   "name": "python",
   "nbconvert_exporter": "python",
   "pygments_lexer": "ipython3",
   "version": "3.13.0"
  }
 },
 "nbformat": 4,
 "nbformat_minor": 2
}
